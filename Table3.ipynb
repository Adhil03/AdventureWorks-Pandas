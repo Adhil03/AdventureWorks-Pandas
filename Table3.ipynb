{
 "cells": [
  {
   "cell_type": "code",
   "execution_count": 1,
   "metadata": {},
   "outputs": [],
   "source": [
    "# importing module and library  \n",
    "import pandas as pd\n",
    "import numpy as np"
   ]
  },
  {
   "cell_type": "markdown",
   "metadata": {},
   "source": [
    "### Connecting Data"
   ]
  },
  {
   "cell_type": "code",
   "execution_count": 2,
   "metadata": {},
   "outputs": [],
   "source": [
    "# import 3 years sales data csv to df\n",
    "Sales_2020 = pd.read_csv(\"Data\\\\AdventureWorks Sales Data 2020.csv\")\n",
    "Sales_2021 = pd.read_csv(\"Data\\\\AdventureWorks Sales Data 2021.csv\")\n",
    "Sales_2022 = pd.read_csv(\"Data\\\\AdventureWorks Sales Data 2022.csv\")\n",
    "\n",
    "# Append 3 years dataframe into 1 as Sales_Data\n",
    "Sales_Data = pd.concat([Sales_2020, Sales_2021, Sales_2022])\n",
    "\n",
    "# import AdventureWorks Calendar Lookup csv file as Calendar\n",
    "Calendar = pd.read_csv(\"Data\\\\AdventureWorks Calendar Lookup.csv\")"
   ]
  },
  {
   "cell_type": "markdown",
   "metadata": {},
   "source": [
    "### Checking & Changing Data Types"
   ]
  },
  {
   "cell_type": "code",
   "execution_count": 3,
   "metadata": {},
   "outputs": [],
   "source": [
    "# Calendar.dtypes"
   ]
  },
  {
   "cell_type": "code",
   "execution_count": 4,
   "metadata": {},
   "outputs": [],
   "source": [
    "# Sales_Data.dtypes"
   ]
  },
  {
   "cell_type": "code",
   "execution_count": 5,
   "metadata": {},
   "outputs": [],
   "source": [
    "# Changing object data types datetime64[ns] using pd.to_datetime() for sales_data and calendar\n",
    "Sales_Data[\"OrderDate\"] = pd.to_datetime(Sales_Data[\"OrderDate\"])\n",
    "Sales_Data[\"StockDate\"] = pd.to_datetime(Sales_Data[\"StockDate\"])\n",
    "\n",
    "Calendar[\"Date\"] = pd.to_datetime(Calendar[\"Date\"])"
   ]
  },
  {
   "cell_type": "code",
   "execution_count": 6,
   "metadata": {},
   "outputs": [],
   "source": [
    "# Sales_Data.dtypes"
   ]
  },
  {
   "cell_type": "code",
   "execution_count": 7,
   "metadata": {},
   "outputs": [],
   "source": [
    "# Calendar.dtypes"
   ]
  },
  {
   "cell_type": "markdown",
   "metadata": {},
   "source": [
    "### Remove Empty Values"
   ]
  },
  {
   "cell_type": "code",
   "execution_count": 8,
   "metadata": {},
   "outputs": [],
   "source": [
    "Calendar = Calendar[Calendar[\"Date\"].notnull()]"
   ]
  },
  {
   "cell_type": "markdown",
   "metadata": {},
   "source": [
    "### Adding Calculated Column"
   ]
  },
  {
   "cell_type": "code",
   "execution_count": 9,
   "metadata": {},
   "outputs": [],
   "source": [
    "Sales_Data[\"OrderType\"] = np.where(Sales_Data[\"OrderQuantity\"] > 1, \"Multiple Type\", \"Single Type\") # Appriciate\n",
    "Sales_Data = Sales_Data.reset_index().drop(columns=[\"index\"])\n",
    "\n",
    "Calendar[\"Start of Week\"] = Calendar[\"Date\"].dt.to_period(\"W\").dt.to_timestamp() # Error\n",
    "Calendar[\"Start of Month\"] = Calendar[\"Date\"].dt.to_period(\"M\").dt.to_timestamp()\n",
    "Calendar[\"Start of Year\"] = Calendar[\"Date\"].dt.to_period(\"Y\").dt.to_timestamp()\n",
    "Calendar[\"Year\"] = Calendar[\"Date\"].dt.year\n",
    "# Calendar"
   ]
  },
  {
   "cell_type": "code",
   "execution_count": 10,
   "metadata": {},
   "outputs": [],
   "source": [
    "# Sales_Data"
   ]
  },
  {
   "cell_type": "markdown",
   "metadata": {},
   "source": [
    "### Validation"
   ]
  },
  {
   "cell_type": "code",
   "execution_count": 11,
   "metadata": {},
   "outputs": [],
   "source": [
    "# Sales_Data.dtypes"
   ]
  },
  {
   "cell_type": "code",
   "execution_count": 12,
   "metadata": {},
   "outputs": [],
   "source": [
    "# Calendar.dtypes"
   ]
  },
  {
   "cell_type": "code",
   "execution_count": 13,
   "metadata": {},
   "outputs": [],
   "source": [
    "# Sales_Data.count()"
   ]
  },
  {
   "cell_type": "code",
   "execution_count": 14,
   "metadata": {},
   "outputs": [],
   "source": [
    "# Sales_Data[\"OrderType\"].value_counts()"
   ]
  },
  {
   "cell_type": "code",
   "execution_count": 15,
   "metadata": {},
   "outputs": [],
   "source": [
    "# Calendar[\"Date\"].count()"
   ]
  },
  {
   "cell_type": "code",
   "execution_count": 16,
   "metadata": {},
   "outputs": [],
   "source": [
    "# Calendar[\"Year\"].value_counts()"
   ]
  },
  {
   "cell_type": "code",
   "execution_count": 17,
   "metadata": {},
   "outputs": [],
   "source": [
    "# Calendar[\"Start of Year\"].value_counts()"
   ]
  },
  {
   "cell_type": "code",
   "execution_count": 18,
   "metadata": {},
   "outputs": [],
   "source": [
    "# Calendar[\"Start of Week\"].nunique()"
   ]
  },
  {
   "cell_type": "code",
   "execution_count": 19,
   "metadata": {},
   "outputs": [],
   "source": [
    "# Calendar[\"Start of Month\"].nunique()"
   ]
  }
 ],
 "metadata": {
  "kernelspec": {
   "display_name": "Python 3",
   "language": "python",
   "name": "python3"
  },
  "language_info": {
   "codemirror_mode": {
    "name": "ipython",
    "version": 3
   },
   "file_extension": ".py",
   "mimetype": "text/x-python",
   "name": "python",
   "nbconvert_exporter": "python",
   "pygments_lexer": "ipython3",
   "version": "3.12.3"
  }
 },
 "nbformat": 4,
 "nbformat_minor": 2
}
