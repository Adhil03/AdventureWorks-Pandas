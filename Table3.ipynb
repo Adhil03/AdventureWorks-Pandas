{
 "cells": [
  {
   "cell_type": "code",
   "execution_count": 1,
   "metadata": {},
   "outputs": [],
   "source": [
    "# importing module and library  \n",
    "import pandas as pd\n",
    "import numpy as np"
   ]
  },
  {
   "cell_type": "markdown",
   "metadata": {},
   "source": [
    "### Connecting Data"
   ]
  },
  {
   "cell_type": "code",
   "execution_count": 2,
   "metadata": {},
   "outputs": [],
   "source": [
    "# import 3 years sales data csv to df\n",
    "Sales_2020 = pd.read_csv(\"Data\\\\AdventureWorks Sales Data 2020.csv\")\n",
    "Sales_2021 = pd.read_csv(\"Data\\\\AdventureWorks Sales Data 2021.csv\")\n",
    "Sales_2022 = pd.read_csv(\"Data\\\\AdventureWorks Sales Data 2022.csv\")\n",
    "\n",
    "# Append 3 years dataframe into 1 as Sales_Data\n",
    "Sales_Data = pd.concat([Sales_2020, Sales_2021, Sales_2022])\n",
    "\n",
    "# import AdventureWorks Calendar Lookup csv file as Calendar\n",
    "Calendar = pd.read_csv(\"Data\\\\AdventureWorks Calendar Lookup.csv\")"
   ]
  },
  {
   "cell_type": "markdown",
   "metadata": {},
   "source": [
    "### Checking & Changing Data Types"
   ]
  },
  {
   "cell_type": "code",
   "execution_count": 3,
   "metadata": {},
   "outputs": [
    {
     "data": {
      "text/plain": [
       "Date    object\n",
       "dtype: object"
      ]
     },
     "execution_count": 3,
     "metadata": {},
     "output_type": "execute_result"
    }
   ],
   "source": [
    "Calendar.dtypes"
   ]
  },
  {
   "cell_type": "code",
   "execution_count": 4,
   "metadata": {},
   "outputs": [
    {
     "data": {
      "text/plain": [
       "OrderDate        object\n",
       "StockDate        object\n",
       "OrderNumber      object\n",
       "ProductKey        int64\n",
       "CustomerKey       int64\n",
       "TerritoryKey      int64\n",
       "OrderLineItem     int64\n",
       "OrderQuantity     int64\n",
       "dtype: object"
      ]
     },
     "execution_count": 4,
     "metadata": {},
     "output_type": "execute_result"
    }
   ],
   "source": [
    "Sales_Data.dtypes"
   ]
  },
  {
   "cell_type": "code",
   "execution_count": 5,
   "metadata": {},
   "outputs": [],
   "source": [
    "# Changing object data types datetime64[ns] using pd.to_datetime() for sales_data and calendar\n",
    "Sales_Data[\"OrderDate\"] = pd.to_datetime(Sales_Data[\"OrderDate\"])\n",
    "Sales_Data[\"StockDate\"] = pd.to_datetime(Sales_Data[\"StockDate\"])\n",
    "\n",
    "Calendar[\"Date\"] = pd.to_datetime(Calendar[\"Date\"])"
   ]
  },
  {
   "cell_type": "code",
   "execution_count": 6,
   "metadata": {},
   "outputs": [
    {
     "data": {
      "text/plain": [
       "OrderDate        datetime64[ns]\n",
       "StockDate        datetime64[ns]\n",
       "OrderNumber              object\n",
       "ProductKey                int64\n",
       "CustomerKey               int64\n",
       "TerritoryKey              int64\n",
       "OrderLineItem             int64\n",
       "OrderQuantity             int64\n",
       "dtype: object"
      ]
     },
     "execution_count": 6,
     "metadata": {},
     "output_type": "execute_result"
    }
   ],
   "source": [
    "Sales_Data.dtypes"
   ]
  },
  {
   "cell_type": "code",
   "execution_count": 7,
   "metadata": {},
   "outputs": [
    {
     "data": {
      "text/plain": [
       "Date    datetime64[ns]\n",
       "dtype: object"
      ]
     },
     "execution_count": 7,
     "metadata": {},
     "output_type": "execute_result"
    }
   ],
   "source": [
    "Calendar.dtypes"
   ]
  },
  {
   "cell_type": "markdown",
   "metadata": {},
   "source": [
    "### Remove Empty Values"
   ]
  },
  {
   "cell_type": "code",
   "execution_count": 8,
   "metadata": {},
   "outputs": [],
   "source": [
    "Calendar = Calendar[Calendar[\"Date\"].notnull()]"
   ]
  },
  {
   "cell_type": "markdown",
   "metadata": {},
   "source": [
    "### Adding Calculated Column"
   ]
  },
  {
   "cell_type": "code",
   "execution_count": 9,
   "metadata": {},
   "outputs": [
    {
     "data": {
      "text/html": [
       "<div>\n",
       "<style scoped>\n",
       "    .dataframe tbody tr th:only-of-type {\n",
       "        vertical-align: middle;\n",
       "    }\n",
       "\n",
       "    .dataframe tbody tr th {\n",
       "        vertical-align: top;\n",
       "    }\n",
       "\n",
       "    .dataframe thead th {\n",
       "        text-align: right;\n",
       "    }\n",
       "</style>\n",
       "<table border=\"1\" class=\"dataframe\">\n",
       "  <thead>\n",
       "    <tr style=\"text-align: right;\">\n",
       "      <th></th>\n",
       "      <th>Date</th>\n",
       "      <th>Start of Week</th>\n",
       "      <th>Start of Month</th>\n",
       "      <th>Start of Year</th>\n",
       "      <th>Year</th>\n",
       "    </tr>\n",
       "  </thead>\n",
       "  <tbody>\n",
       "    <tr>\n",
       "      <th>0</th>\n",
       "      <td>2020-01-01</td>\n",
       "      <td>2019-12-30</td>\n",
       "      <td>2020-01-01</td>\n",
       "      <td>2020-01-01</td>\n",
       "      <td>2020</td>\n",
       "    </tr>\n",
       "    <tr>\n",
       "      <th>1</th>\n",
       "      <td>2020-01-02</td>\n",
       "      <td>2019-12-30</td>\n",
       "      <td>2020-01-01</td>\n",
       "      <td>2020-01-01</td>\n",
       "      <td>2020</td>\n",
       "    </tr>\n",
       "    <tr>\n",
       "      <th>2</th>\n",
       "      <td>2020-01-03</td>\n",
       "      <td>2019-12-30</td>\n",
       "      <td>2020-01-01</td>\n",
       "      <td>2020-01-01</td>\n",
       "      <td>2020</td>\n",
       "    </tr>\n",
       "    <tr>\n",
       "      <th>3</th>\n",
       "      <td>2020-01-04</td>\n",
       "      <td>2019-12-30</td>\n",
       "      <td>2020-01-01</td>\n",
       "      <td>2020-01-01</td>\n",
       "      <td>2020</td>\n",
       "    </tr>\n",
       "    <tr>\n",
       "      <th>4</th>\n",
       "      <td>2020-01-05</td>\n",
       "      <td>2019-12-30</td>\n",
       "      <td>2020-01-01</td>\n",
       "      <td>2020-01-01</td>\n",
       "      <td>2020</td>\n",
       "    </tr>\n",
       "    <tr>\n",
       "      <th>...</th>\n",
       "      <td>...</td>\n",
       "      <td>...</td>\n",
       "      <td>...</td>\n",
       "      <td>...</td>\n",
       "      <td>...</td>\n",
       "    </tr>\n",
       "    <tr>\n",
       "      <th>907</th>\n",
       "      <td>2022-06-26</td>\n",
       "      <td>2022-06-20</td>\n",
       "      <td>2022-06-01</td>\n",
       "      <td>2022-01-01</td>\n",
       "      <td>2022</td>\n",
       "    </tr>\n",
       "    <tr>\n",
       "      <th>908</th>\n",
       "      <td>2022-06-27</td>\n",
       "      <td>2022-06-27</td>\n",
       "      <td>2022-06-01</td>\n",
       "      <td>2022-01-01</td>\n",
       "      <td>2022</td>\n",
       "    </tr>\n",
       "    <tr>\n",
       "      <th>909</th>\n",
       "      <td>2022-06-28</td>\n",
       "      <td>2022-06-27</td>\n",
       "      <td>2022-06-01</td>\n",
       "      <td>2022-01-01</td>\n",
       "      <td>2022</td>\n",
       "    </tr>\n",
       "    <tr>\n",
       "      <th>910</th>\n",
       "      <td>2022-06-29</td>\n",
       "      <td>2022-06-27</td>\n",
       "      <td>2022-06-01</td>\n",
       "      <td>2022-01-01</td>\n",
       "      <td>2022</td>\n",
       "    </tr>\n",
       "    <tr>\n",
       "      <th>911</th>\n",
       "      <td>2022-06-30</td>\n",
       "      <td>2022-06-27</td>\n",
       "      <td>2022-06-01</td>\n",
       "      <td>2022-01-01</td>\n",
       "      <td>2022</td>\n",
       "    </tr>\n",
       "  </tbody>\n",
       "</table>\n",
       "<p>912 rows × 5 columns</p>\n",
       "</div>"
      ],
      "text/plain": [
       "          Date Start of Week Start of Month Start of Year  Year\n",
       "0   2020-01-01    2019-12-30     2020-01-01    2020-01-01  2020\n",
       "1   2020-01-02    2019-12-30     2020-01-01    2020-01-01  2020\n",
       "2   2020-01-03    2019-12-30     2020-01-01    2020-01-01  2020\n",
       "3   2020-01-04    2019-12-30     2020-01-01    2020-01-01  2020\n",
       "4   2020-01-05    2019-12-30     2020-01-01    2020-01-01  2020\n",
       "..         ...           ...            ...           ...   ...\n",
       "907 2022-06-26    2022-06-20     2022-06-01    2022-01-01  2022\n",
       "908 2022-06-27    2022-06-27     2022-06-01    2022-01-01  2022\n",
       "909 2022-06-28    2022-06-27     2022-06-01    2022-01-01  2022\n",
       "910 2022-06-29    2022-06-27     2022-06-01    2022-01-01  2022\n",
       "911 2022-06-30    2022-06-27     2022-06-01    2022-01-01  2022\n",
       "\n",
       "[912 rows x 5 columns]"
      ]
     },
     "execution_count": 9,
     "metadata": {},
     "output_type": "execute_result"
    }
   ],
   "source": [
    "Sales_Data[\"OrderType\"] = np.where(Sales_Data[\"OrderQuantity\"] > 1, \"Multiple Type\", \"Single Type\") # Appriciate\n",
    "Sales_Data = Sales_Data.reset_index().drop(columns=[\"index\"])\n",
    "\n",
    "Calendar[\"Start of Week\"] = Calendar[\"Date\"].dt.to_period(\"W\").dt.to_timestamp() # Error\n",
    "Calendar[\"Start of Month\"] = Calendar[\"Date\"].dt.to_period(\"M\").dt.to_timestamp()\n",
    "Calendar[\"Start of Year\"] = Calendar[\"Date\"].dt.to_period(\"Y\").dt.to_timestamp()\n",
    "Calendar[\"Year\"] = Calendar[\"Date\"].dt.year\n",
    "Calendar"
   ]
  },
  {
   "cell_type": "code",
   "execution_count": 10,
   "metadata": {},
   "outputs": [
    {
     "data": {
      "text/html": [
       "<div>\n",
       "<style scoped>\n",
       "    .dataframe tbody tr th:only-of-type {\n",
       "        vertical-align: middle;\n",
       "    }\n",
       "\n",
       "    .dataframe tbody tr th {\n",
       "        vertical-align: top;\n",
       "    }\n",
       "\n",
       "    .dataframe thead th {\n",
       "        text-align: right;\n",
       "    }\n",
       "</style>\n",
       "<table border=\"1\" class=\"dataframe\">\n",
       "  <thead>\n",
       "    <tr style=\"text-align: right;\">\n",
       "      <th></th>\n",
       "      <th>OrderDate</th>\n",
       "      <th>StockDate</th>\n",
       "      <th>OrderNumber</th>\n",
       "      <th>ProductKey</th>\n",
       "      <th>CustomerKey</th>\n",
       "      <th>TerritoryKey</th>\n",
       "      <th>OrderLineItem</th>\n",
       "      <th>OrderQuantity</th>\n",
       "      <th>OrderType</th>\n",
       "    </tr>\n",
       "  </thead>\n",
       "  <tbody>\n",
       "    <tr>\n",
       "      <th>0</th>\n",
       "      <td>2020-01-01</td>\n",
       "      <td>2019-09-21</td>\n",
       "      <td>SO45080</td>\n",
       "      <td>332</td>\n",
       "      <td>14657</td>\n",
       "      <td>1</td>\n",
       "      <td>1</td>\n",
       "      <td>1</td>\n",
       "      <td>Single Type</td>\n",
       "    </tr>\n",
       "    <tr>\n",
       "      <th>1</th>\n",
       "      <td>2020-01-01</td>\n",
       "      <td>2019-12-05</td>\n",
       "      <td>SO45079</td>\n",
       "      <td>312</td>\n",
       "      <td>29255</td>\n",
       "      <td>4</td>\n",
       "      <td>1</td>\n",
       "      <td>1</td>\n",
       "      <td>Single Type</td>\n",
       "    </tr>\n",
       "    <tr>\n",
       "      <th>2</th>\n",
       "      <td>2020-01-01</td>\n",
       "      <td>2019-10-29</td>\n",
       "      <td>SO45082</td>\n",
       "      <td>350</td>\n",
       "      <td>11455</td>\n",
       "      <td>9</td>\n",
       "      <td>1</td>\n",
       "      <td>1</td>\n",
       "      <td>Single Type</td>\n",
       "    </tr>\n",
       "    <tr>\n",
       "      <th>3</th>\n",
       "      <td>2020-01-01</td>\n",
       "      <td>2019-11-16</td>\n",
       "      <td>SO45081</td>\n",
       "      <td>338</td>\n",
       "      <td>26782</td>\n",
       "      <td>6</td>\n",
       "      <td>1</td>\n",
       "      <td>1</td>\n",
       "      <td>Single Type</td>\n",
       "    </tr>\n",
       "    <tr>\n",
       "      <th>4</th>\n",
       "      <td>2020-01-02</td>\n",
       "      <td>2019-12-15</td>\n",
       "      <td>SO45083</td>\n",
       "      <td>312</td>\n",
       "      <td>14947</td>\n",
       "      <td>10</td>\n",
       "      <td>1</td>\n",
       "      <td>1</td>\n",
       "      <td>Single Type</td>\n",
       "    </tr>\n",
       "    <tr>\n",
       "      <th>...</th>\n",
       "      <td>...</td>\n",
       "      <td>...</td>\n",
       "      <td>...</td>\n",
       "      <td>...</td>\n",
       "      <td>...</td>\n",
       "      <td>...</td>\n",
       "      <td>...</td>\n",
       "      <td>...</td>\n",
       "      <td>...</td>\n",
       "    </tr>\n",
       "    <tr>\n",
       "      <th>56041</th>\n",
       "      <td>2022-06-30</td>\n",
       "      <td>2022-03-22</td>\n",
       "      <td>SO74143</td>\n",
       "      <td>477</td>\n",
       "      <td>28517</td>\n",
       "      <td>10</td>\n",
       "      <td>3</td>\n",
       "      <td>2</td>\n",
       "      <td>Multiple Type</td>\n",
       "    </tr>\n",
       "    <tr>\n",
       "      <th>56042</th>\n",
       "      <td>2022-06-30</td>\n",
       "      <td>2022-03-15</td>\n",
       "      <td>SO74143</td>\n",
       "      <td>479</td>\n",
       "      <td>28517</td>\n",
       "      <td>10</td>\n",
       "      <td>2</td>\n",
       "      <td>1</td>\n",
       "      <td>Single Type</td>\n",
       "    </tr>\n",
       "    <tr>\n",
       "      <th>56043</th>\n",
       "      <td>2022-06-30</td>\n",
       "      <td>2022-04-08</td>\n",
       "      <td>SO74143</td>\n",
       "      <td>606</td>\n",
       "      <td>28517</td>\n",
       "      <td>10</td>\n",
       "      <td>1</td>\n",
       "      <td>1</td>\n",
       "      <td>Single Type</td>\n",
       "    </tr>\n",
       "    <tr>\n",
       "      <th>56044</th>\n",
       "      <td>2022-06-30</td>\n",
       "      <td>2022-05-15</td>\n",
       "      <td>SO74124</td>\n",
       "      <td>480</td>\n",
       "      <td>21676</td>\n",
       "      <td>7</td>\n",
       "      <td>2</td>\n",
       "      <td>2</td>\n",
       "      <td>Multiple Type</td>\n",
       "    </tr>\n",
       "    <tr>\n",
       "      <th>56045</th>\n",
       "      <td>2022-06-30</td>\n",
       "      <td>2022-05-04</td>\n",
       "      <td>SO74124</td>\n",
       "      <td>538</td>\n",
       "      <td>21676</td>\n",
       "      <td>7</td>\n",
       "      <td>1</td>\n",
       "      <td>2</td>\n",
       "      <td>Multiple Type</td>\n",
       "    </tr>\n",
       "  </tbody>\n",
       "</table>\n",
       "<p>56046 rows × 9 columns</p>\n",
       "</div>"
      ],
      "text/plain": [
       "       OrderDate  StockDate OrderNumber  ProductKey  CustomerKey  \\\n",
       "0     2020-01-01 2019-09-21     SO45080         332        14657   \n",
       "1     2020-01-01 2019-12-05     SO45079         312        29255   \n",
       "2     2020-01-01 2019-10-29     SO45082         350        11455   \n",
       "3     2020-01-01 2019-11-16     SO45081         338        26782   \n",
       "4     2020-01-02 2019-12-15     SO45083         312        14947   \n",
       "...          ...        ...         ...         ...          ...   \n",
       "56041 2022-06-30 2022-03-22     SO74143         477        28517   \n",
       "56042 2022-06-30 2022-03-15     SO74143         479        28517   \n",
       "56043 2022-06-30 2022-04-08     SO74143         606        28517   \n",
       "56044 2022-06-30 2022-05-15     SO74124         480        21676   \n",
       "56045 2022-06-30 2022-05-04     SO74124         538        21676   \n",
       "\n",
       "       TerritoryKey  OrderLineItem  OrderQuantity      OrderType  \n",
       "0                 1              1              1    Single Type  \n",
       "1                 4              1              1    Single Type  \n",
       "2                 9              1              1    Single Type  \n",
       "3                 6              1              1    Single Type  \n",
       "4                10              1              1    Single Type  \n",
       "...             ...            ...            ...            ...  \n",
       "56041            10              3              2  Multiple Type  \n",
       "56042            10              2              1    Single Type  \n",
       "56043            10              1              1    Single Type  \n",
       "56044             7              2              2  Multiple Type  \n",
       "56045             7              1              2  Multiple Type  \n",
       "\n",
       "[56046 rows x 9 columns]"
      ]
     },
     "execution_count": 10,
     "metadata": {},
     "output_type": "execute_result"
    }
   ],
   "source": [
    "Sales_Data"
   ]
  },
  {
   "cell_type": "markdown",
   "metadata": {},
   "source": [
    "### Validation"
   ]
  },
  {
   "cell_type": "code",
   "execution_count": 11,
   "metadata": {},
   "outputs": [
    {
     "data": {
      "text/plain": [
       "OrderDate        datetime64[ns]\n",
       "StockDate        datetime64[ns]\n",
       "OrderNumber              object\n",
       "ProductKey                int64\n",
       "CustomerKey               int64\n",
       "TerritoryKey              int64\n",
       "OrderLineItem             int64\n",
       "OrderQuantity             int64\n",
       "OrderType                object\n",
       "dtype: object"
      ]
     },
     "execution_count": 11,
     "metadata": {},
     "output_type": "execute_result"
    }
   ],
   "source": [
    "Sales_Data.dtypes"
   ]
  },
  {
   "cell_type": "code",
   "execution_count": 12,
   "metadata": {},
   "outputs": [
    {
     "data": {
      "text/plain": [
       "Date              datetime64[ns]\n",
       "Start of Week     datetime64[ns]\n",
       "Start of Month    datetime64[ns]\n",
       "Start of Year     datetime64[ns]\n",
       "Year                       int32\n",
       "dtype: object"
      ]
     },
     "execution_count": 12,
     "metadata": {},
     "output_type": "execute_result"
    }
   ],
   "source": [
    "Calendar.dtypes"
   ]
  },
  {
   "cell_type": "code",
   "execution_count": 13,
   "metadata": {},
   "outputs": [
    {
     "data": {
      "text/plain": [
       "OrderDate        56046\n",
       "StockDate        56046\n",
       "OrderNumber      56046\n",
       "ProductKey       56046\n",
       "CustomerKey      56046\n",
       "TerritoryKey     56046\n",
       "OrderLineItem    56046\n",
       "OrderQuantity    56046\n",
       "OrderType        56046\n",
       "dtype: int64"
      ]
     },
     "execution_count": 13,
     "metadata": {},
     "output_type": "execute_result"
    }
   ],
   "source": [
    "Sales_Data.count()"
   ]
  },
  {
   "cell_type": "code",
   "execution_count": 14,
   "metadata": {},
   "outputs": [
    {
     "data": {
      "text/plain": [
       "OrderType\n",
       "Single Type      31421\n",
       "Multiple Type    24625\n",
       "Name: count, dtype: int64"
      ]
     },
     "execution_count": 14,
     "metadata": {},
     "output_type": "execute_result"
    }
   ],
   "source": [
    "Sales_Data[\"OrderType\"].value_counts()"
   ]
  },
  {
   "cell_type": "code",
   "execution_count": 15,
   "metadata": {},
   "outputs": [
    {
     "data": {
      "text/plain": [
       "912"
      ]
     },
     "execution_count": 15,
     "metadata": {},
     "output_type": "execute_result"
    }
   ],
   "source": [
    "Calendar[\"Date\"].count()"
   ]
  },
  {
   "cell_type": "code",
   "execution_count": 16,
   "metadata": {},
   "outputs": [
    {
     "data": {
      "text/plain": [
       "Year\n",
       "2020    366\n",
       "2021    365\n",
       "2022    181\n",
       "Name: count, dtype: int64"
      ]
     },
     "execution_count": 16,
     "metadata": {},
     "output_type": "execute_result"
    }
   ],
   "source": [
    "Calendar[\"Year\"].value_counts()"
   ]
  },
  {
   "cell_type": "code",
   "execution_count": 17,
   "metadata": {},
   "outputs": [
    {
     "data": {
      "text/plain": [
       "Start of Year\n",
       "2020-01-01    366\n",
       "2021-01-01    365\n",
       "2022-01-01    181\n",
       "Name: count, dtype: int64"
      ]
     },
     "execution_count": 17,
     "metadata": {},
     "output_type": "execute_result"
    }
   ],
   "source": [
    "Calendar[\"Start of Year\"].value_counts()"
   ]
  },
  {
   "cell_type": "code",
   "execution_count": 18,
   "metadata": {},
   "outputs": [
    {
     "data": {
      "text/plain": [
       "131"
      ]
     },
     "execution_count": 18,
     "metadata": {},
     "output_type": "execute_result"
    }
   ],
   "source": [
    "Calendar[\"Start of Week\"].nunique()"
   ]
  },
  {
   "cell_type": "code",
   "execution_count": 19,
   "metadata": {},
   "outputs": [
    {
     "data": {
      "text/plain": [
       "30"
      ]
     },
     "execution_count": 19,
     "metadata": {},
     "output_type": "execute_result"
    }
   ],
   "source": [
    "Calendar[\"Start of Month\"].nunique()"
   ]
  }
 ],
 "metadata": {
  "kernelspec": {
   "display_name": "Python 3",
   "language": "python",
   "name": "python3"
  },
  "language_info": {
   "codemirror_mode": {
    "name": "ipython",
    "version": 3
   },
   "file_extension": ".py",
   "mimetype": "text/x-python",
   "name": "python",
   "nbconvert_exporter": "python",
   "pygments_lexer": "ipython3",
   "version": "3.12.3"
  }
 },
 "nbformat": 4,
 "nbformat_minor": 2
}
