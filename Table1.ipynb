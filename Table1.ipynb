{
 "cells": [
  {
   "cell_type": "markdown",
   "metadata": {},
   "source": [
    "##### Zaseem"
   ]
  },
  {
   "cell_type": "markdown",
   "metadata": {},
   "source": [
    "## Data Validation for \n",
    "- Product Category Lookup Table\n",
    "- Product Subcategory Lookup Table\n",
    "- Customer Lookup Table"
   ]
  },
  {
   "cell_type": "code",
   "execution_count": 23,
   "metadata": {},
   "outputs": [],
   "source": [
    "import pandas as pd"
   ]
  },
  {
   "cell_type": "markdown",
   "metadata": {},
   "source": [
    "#### Importing Data"
   ]
  },
  {
   "cell_type": "code",
   "execution_count": 24,
   "metadata": {},
   "outputs": [],
   "source": [
    "# While importing customer lookup data it shows unicode error for utf-8 so I changed it to latin-1\n",
    "customer_lookup = pd.read_csv('Data/AdventureWorks Customer Lookup.csv', encoding='latin-1')\n",
    "\n",
    "product_category_lookup = pd.read_csv('Data/AdventureWorks Product Categories Lookup.csv')\n",
    "\n",
    "product_subcategory_lookup = pd.read_csv('Data/AdventureWorks Product Subcategories Lookup.csv')"
   ]
  },
  {
   "cell_type": "markdown",
   "metadata": {},
   "source": [
    "#### Data Checking"
   ]
  },
  {
   "cell_type": "code",
   "execution_count": 25,
   "metadata": {},
   "outputs": [],
   "source": [
    "# To print the datatype and the values\n",
    "def data_type_check(df):\n",
    "    print(\"DataType\", end=\"\\n\\n\")\n",
    "    print(df.dtypes, end=\"\\n\\n\")\n",
    "    print(\"Dataframe\")\n",
    "    return df.head()\n",
    "\n",
    "# Check the Datatype one by one\n",
    "# data_type_check(customer_lookup)\n",
    "# data_type_check(product_category_lookup) # Correct DataType\n",
    "# data_type_check(product_subcategory_lookup) # Correct DataType"
   ]
  },
  {
   "cell_type": "markdown",
   "metadata": {},
   "source": [
    "In the above output, we can see that all the data is in the correct data type except for CustomerKey, BirthDate and TotalChildren in Customer_Lookup_Table.\n",
    "\n",
    "But whenever I try to change the data type for CustomerKey to int, it gives me an error, so i figured to clean the data before changing the data type."
   ]
  },
  {
   "cell_type": "markdown",
   "metadata": {},
   "source": [
    "#### Cleaning Data"
   ]
  },
  {
   "cell_type": "code",
   "execution_count": 26,
   "metadata": {},
   "outputs": [],
   "source": [
    "# Customer Lookup Table\n",
    "customer_lookup = customer_lookup[customer_lookup[\"CustomerKey\"].notnull() & customer_lookup[\"CustomerKey\"].str.isdigit()]\n",
    "# Product Category Lookup Table\n",
    "product_category_lookup = product_category_lookup[product_category_lookup[\"ProductCategoryKey\"].notnull()]\n",
    "# Product Subcategory Lookup Table\n",
    "product_subcategory_lookup = product_subcategory_lookup[product_subcategory_lookup[\"ProductSubcategoryKey\"].notnull()]  "
   ]
  },
  {
   "cell_type": "markdown",
   "metadata": {},
   "source": [
    "#### Changing DataTypes"
   ]
  },
  {
   "cell_type": "code",
   "execution_count": 27,
   "metadata": {},
   "outputs": [],
   "source": [
    "customer_lookup = customer_lookup.astype({'CustomerKey': 'int64', 'BirthDate': 'datetime64[ns]', 'TotalChildren': 'int32'})"
   ]
  },
  {
   "cell_type": "markdown",
   "metadata": {},
   "source": [
    "#### Adding Column"
   ]
  },
  {
   "cell_type": "code",
   "execution_count": 28,
   "metadata": {},
   "outputs": [],
   "source": [
    "capitalize_column = ['Prefix', 'FirstName', 'LastName']\n",
    "# Change the column values to Capitalize\n",
    "customer_lookup[capitalize_column] = customer_lookup[capitalize_column].apply(lambda x: x.str.capitalize())\n",
    "# Create a FullName column with Prefix, FirstName and LastName\n",
    "customer_lookup[\"FullName\"] = customer_lookup[\"Prefix\"] + \" \" + customer_lookup[\"FirstName\"] + \" \" + customer_lookup[\"LastName\"]\n",
    "\n",
    "# Create an income_level function to check the set of condition with value x\n",
    "def income_level(x):\n",
    "    if x >= 150000:\n",
    "        return \"Very High\"\n",
    "    elif x >= 100000:\n",
    "        return \"High\"\n",
    "    elif x >= 50000:\n",
    "        return \"Average\"\n",
    "    else:\n",
    "        return \"Low\"\n",
    "# Applying the funciton the the AnnualIncome column\n",
    "customer_lookup[\"IncomeLevel\"] = customer_lookup[\"AnnualIncome\"].apply(lambda x: income_level(x))"
   ]
  },
  {
   "cell_type": "markdown",
   "metadata": {},
   "source": [
    "#### Calculated Column Validation"
   ]
  },
  {
   "cell_type": "code",
   "execution_count": 29,
   "metadata": {},
   "outputs": [],
   "source": [
    "# customer_lookup.value_counts(\"IncomeLevel\")"
   ]
  },
  {
   "cell_type": "markdown",
   "metadata": {},
   "source": [
    "### Validation"
   ]
  },
  {
   "cell_type": "markdown",
   "metadata": {},
   "source": [
    "#### Customer_lookup"
   ]
  },
  {
   "cell_type": "markdown",
   "metadata": {},
   "source": [
    "- Rows_Count"
   ]
  },
  {
   "cell_type": "code",
   "execution_count": 30,
   "metadata": {},
   "outputs": [],
   "source": [
    "# len(customer_lookup)"
   ]
  },
  {
   "cell_type": "markdown",
   "metadata": {},
   "source": [
    "- Average AnnualIncome"
   ]
  },
  {
   "cell_type": "code",
   "execution_count": 31,
   "metadata": {},
   "outputs": [],
   "source": [
    "# customer_lookup[\"AnnualIncome\"].mean()"
   ]
  },
  {
   "cell_type": "markdown",
   "metadata": {},
   "source": [
    "#### Product_Category_Lookup"
   ]
  },
  {
   "cell_type": "markdown",
   "metadata": {},
   "source": [
    "- Rows_Count"
   ]
  },
  {
   "cell_type": "code",
   "execution_count": 32,
   "metadata": {},
   "outputs": [],
   "source": [
    "# product_category_lookup[\"ProductCategoryKey\"].count()"
   ]
  },
  {
   "cell_type": "markdown",
   "metadata": {},
   "source": [
    "#### Product_Subcategory_Lookup"
   ]
  },
  {
   "cell_type": "markdown",
   "metadata": {},
   "source": [
    "- Rows_Count"
   ]
  },
  {
   "cell_type": "code",
   "execution_count": 33,
   "metadata": {},
   "outputs": [],
   "source": [
    "# product_subcategory_lookup[\"ProductSubcategoryKey\"].count()"
   ]
  }
 ],
 "metadata": {
  "kernelspec": {
   "display_name": "Python 3",
   "language": "python",
   "name": "python3"
  },
  "language_info": {
   "codemirror_mode": {
    "name": "ipython",
    "version": 3
   },
   "file_extension": ".py",
   "mimetype": "text/x-python",
   "name": "python",
   "nbconvert_exporter": "python",
   "pygments_lexer": "ipython3",
   "version": "3.12.3"
  }
 },
 "nbformat": 4,
 "nbformat_minor": 2
}
