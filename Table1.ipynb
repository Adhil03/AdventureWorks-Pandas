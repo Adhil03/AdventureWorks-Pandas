{
 "cells": [
  {
   "cell_type": "markdown",
   "metadata": {},
   "source": [
    "## Data Validation for \n",
    "- Product Category Lookup Table\n",
    "- Product Subcategory Lookup Table\n",
    "- Customer Lookup Table"
   ]
  },
  {
   "cell_type": "code",
   "execution_count": 26,
   "metadata": {},
   "outputs": [],
   "source": [
    "import pandas as pd"
   ]
  },
  {
   "cell_type": "markdown",
   "metadata": {},
   "source": [
    "#### Importing Data"
   ]
  },
  {
   "cell_type": "code",
   "execution_count": 16,
   "metadata": {},
   "outputs": [],
   "source": [
    "# While importing customer lookup data it shows unicode error for utf-8 so I changed it to latin-1\n",
    "customer_lookup = pd.read_csv('Data/AdventureWorks Customer Lookup.csv', encoding='latin-1')\n",
    "\n",
    "product_category_lookup = pd.read_csv('Data/AdventureWorks Product Categories Lookup.csv')\n",
    "\n",
    "product_subcategory_lookup = pd.read_csv('Data/AdventureWorks Product Subcategories Lookup.csv')"
   ]
  },
  {
   "cell_type": "markdown",
   "metadata": {},
   "source": [
    "#### Data Checking"
   ]
  },
  {
   "cell_type": "code",
   "execution_count": 17,
   "metadata": {},
   "outputs": [
    {
     "name": "stdout",
     "output_type": "stream",
     "text": [
      "DataType\n",
      "\n",
      "CustomerKey        object\n",
      "Prefix             object\n",
      "FirstName          object\n",
      "LastName           object\n",
      "BirthDate          object\n",
      "MaritalStatus      object\n",
      "Gender             object\n",
      "EmailAddress       object\n",
      "AnnualIncome      float64\n",
      "TotalChildren     float64\n",
      "EducationLevel     object\n",
      "Occupation         object\n",
      "HomeOwner          object\n",
      "dtype: object\n",
      "\n",
      "Dataframe\n"
     ]
    },
    {
     "data": {
      "text/html": [
       "<div>\n",
       "<style scoped>\n",
       "    .dataframe tbody tr th:only-of-type {\n",
       "        vertical-align: middle;\n",
       "    }\n",
       "\n",
       "    .dataframe tbody tr th {\n",
       "        vertical-align: top;\n",
       "    }\n",
       "\n",
       "    .dataframe thead th {\n",
       "        text-align: right;\n",
       "    }\n",
       "</style>\n",
       "<table border=\"1\" class=\"dataframe\">\n",
       "  <thead>\n",
       "    <tr style=\"text-align: right;\">\n",
       "      <th></th>\n",
       "      <th>CustomerKey</th>\n",
       "      <th>Prefix</th>\n",
       "      <th>FirstName</th>\n",
       "      <th>LastName</th>\n",
       "      <th>BirthDate</th>\n",
       "      <th>MaritalStatus</th>\n",
       "      <th>Gender</th>\n",
       "      <th>EmailAddress</th>\n",
       "      <th>AnnualIncome</th>\n",
       "      <th>TotalChildren</th>\n",
       "      <th>EducationLevel</th>\n",
       "      <th>Occupation</th>\n",
       "      <th>HomeOwner</th>\n",
       "    </tr>\n",
       "  </thead>\n",
       "  <tbody>\n",
       "    <tr>\n",
       "      <th>0</th>\n",
       "      <td>11000</td>\n",
       "      <td>MR.</td>\n",
       "      <td>JON</td>\n",
       "      <td>YANG</td>\n",
       "      <td>1966-04-08</td>\n",
       "      <td>M</td>\n",
       "      <td>M</td>\n",
       "      <td>jon24@adventure-works.com</td>\n",
       "      <td>90000.0</td>\n",
       "      <td>2.0</td>\n",
       "      <td>Bachelors</td>\n",
       "      <td>Professional</td>\n",
       "      <td>Y</td>\n",
       "    </tr>\n",
       "    <tr>\n",
       "      <th>1</th>\n",
       "      <td>11001</td>\n",
       "      <td>MR.</td>\n",
       "      <td>EUGENE</td>\n",
       "      <td>HUANG</td>\n",
       "      <td>1965-05-14</td>\n",
       "      <td>S</td>\n",
       "      <td>M</td>\n",
       "      <td>eugene10@adventure-works.com</td>\n",
       "      <td>60000.0</td>\n",
       "      <td>3.0</td>\n",
       "      <td>Bachelors</td>\n",
       "      <td>Professional</td>\n",
       "      <td>N</td>\n",
       "    </tr>\n",
       "    <tr>\n",
       "      <th>2</th>\n",
       "      <td>11002</td>\n",
       "      <td>MR.</td>\n",
       "      <td>RUBEN</td>\n",
       "      <td>TORRES</td>\n",
       "      <td>1965-08-12</td>\n",
       "      <td>M</td>\n",
       "      <td>M</td>\n",
       "      <td>ruben35@adventure-works.com</td>\n",
       "      <td>60000.0</td>\n",
       "      <td>3.0</td>\n",
       "      <td>Bachelors</td>\n",
       "      <td>Professional</td>\n",
       "      <td>Y</td>\n",
       "    </tr>\n",
       "    <tr>\n",
       "      <th>3</th>\n",
       "      <td>11003</td>\n",
       "      <td>MS.</td>\n",
       "      <td>CHRISTY</td>\n",
       "      <td>ZHU</td>\n",
       "      <td>1968-02-15</td>\n",
       "      <td>S</td>\n",
       "      <td>F</td>\n",
       "      <td>christy12@adventure-works.com</td>\n",
       "      <td>70000.0</td>\n",
       "      <td>0.0</td>\n",
       "      <td>Bachelors</td>\n",
       "      <td>Professional</td>\n",
       "      <td>N</td>\n",
       "    </tr>\n",
       "    <tr>\n",
       "      <th>4</th>\n",
       "      <td>11004</td>\n",
       "      <td>MRS.</td>\n",
       "      <td>ELIZABETH</td>\n",
       "      <td>JOHNSON</td>\n",
       "      <td>1968-08-08</td>\n",
       "      <td>S</td>\n",
       "      <td>F</td>\n",
       "      <td>elizabeth5@adventure-works.com</td>\n",
       "      <td>80000.0</td>\n",
       "      <td>5.0</td>\n",
       "      <td>Bachelors</td>\n",
       "      <td>Professional</td>\n",
       "      <td>Y</td>\n",
       "    </tr>\n",
       "  </tbody>\n",
       "</table>\n",
       "</div>"
      ],
      "text/plain": [
       "  CustomerKey Prefix  FirstName LastName   BirthDate MaritalStatus Gender  \\\n",
       "0       11000    MR.        JON     YANG  1966-04-08             M      M   \n",
       "1       11001    MR.     EUGENE    HUANG  1965-05-14             S      M   \n",
       "2       11002    MR.      RUBEN   TORRES  1965-08-12             M      M   \n",
       "3       11003    MS.    CHRISTY      ZHU  1968-02-15             S      F   \n",
       "4       11004   MRS.  ELIZABETH  JOHNSON  1968-08-08             S      F   \n",
       "\n",
       "                     EmailAddress  AnnualIncome  TotalChildren EducationLevel  \\\n",
       "0       jon24@adventure-works.com       90000.0            2.0      Bachelors   \n",
       "1    eugene10@adventure-works.com       60000.0            3.0      Bachelors   \n",
       "2     ruben35@adventure-works.com       60000.0            3.0      Bachelors   \n",
       "3   christy12@adventure-works.com       70000.0            0.0      Bachelors   \n",
       "4  elizabeth5@adventure-works.com       80000.0            5.0      Bachelors   \n",
       "\n",
       "     Occupation HomeOwner  \n",
       "0  Professional         Y  \n",
       "1  Professional         N  \n",
       "2  Professional         Y  \n",
       "3  Professional         N  \n",
       "4  Professional         Y  "
      ]
     },
     "execution_count": 17,
     "metadata": {},
     "output_type": "execute_result"
    }
   ],
   "source": [
    "# To print the datatype and the values\n",
    "def data_type_check(df):\n",
    "    print(\"DataType\", end=\"\\n\\n\")\n",
    "    print(df.dtypes, end=\"\\n\\n\")\n",
    "    print(\"Dataframe\")\n",
    "    return df.head()\n",
    "\n",
    "# Check the Datatype one by one\n",
    "data_type_check(customer_lookup)\n",
    "# data_type_check(product_category_lookup) # Correct DataType\n",
    "# data_type_check(product_subcategory_lookup) # Correct DataType"
   ]
  },
  {
   "cell_type": "markdown",
   "metadata": {},
   "source": [
    "In the above output, we can see that all the data is in the correct data type except for CustomerKey, BirthDate and TotalChildren in Customer_Lookup_Table.\n",
    "\n",
    "But whenever I try to change the data type for CustomerKey to int, it gives me an error, so i figured to clean the data before changing the data type."
   ]
  },
  {
   "cell_type": "markdown",
   "metadata": {},
   "source": [
    "#### Cleaning Data"
   ]
  },
  {
   "cell_type": "code",
   "execution_count": 18,
   "metadata": {},
   "outputs": [],
   "source": [
    "# Customer Lookup Table\n",
    "customer_lookup = customer_lookup[customer_lookup[\"CustomerKey\"].notnull() & customer_lookup[\"CustomerKey\"].str.isdigit()]\n",
    "# Product Category Lookup Table\n",
    "product_category_lookup = product_category_lookup[product_category_lookup[\"ProductCategoryKey\"].notnull()]\n",
    "# Product Subcategory Lookup Table\n",
    "product_subcategory_lookup = product_subcategory_lookup[product_subcategory_lookup[\"ProductSubcategoryKey\"].notnull()]  "
   ]
  },
  {
   "cell_type": "markdown",
   "metadata": {},
   "source": [
    "#### Changing DataTypes"
   ]
  },
  {
   "cell_type": "code",
   "execution_count": 19,
   "metadata": {},
   "outputs": [],
   "source": [
    "customer_lookup = customer_lookup.astype({'CustomerKey': 'int64', 'BirthDate': 'datetime64[ns]', 'TotalChildren': 'int32'})"
   ]
  },
  {
   "cell_type": "markdown",
   "metadata": {},
   "source": [
    "#### Adding Column"
   ]
  },
  {
   "cell_type": "code",
   "execution_count": 20,
   "metadata": {},
   "outputs": [],
   "source": [
    "capitalize_column = ['Prefix', 'FirstName', 'LastName']\n",
    "# Change the column values to Capitalize\n",
    "customer_lookup[capitalize_column] = customer_lookup[capitalize_column].apply(lambda x: x.str.capitalize())\n",
    "# Create a FullName column with Prefix, FirstName and LastName\n",
    "customer_lookup[\"FullName\"] = customer_lookup[\"Prefix\"] + \" \" + customer_lookup[\"FirstName\"] + \" \" + customer_lookup[\"LastName\"]\n",
    "\n",
    "# Create an income_level function to check the set of condition with value x\n",
    "def income_level(x):\n",
    "    if x >= 150000:\n",
    "        return \"Very High\"\n",
    "    elif x >= 100000:\n",
    "        return \"High\"\n",
    "    elif x >= 50000:\n",
    "        return \"Average\"\n",
    "    else:\n",
    "        return \"Low\"\n",
    "# Applying the funciton the the AnnualIncome column\n",
    "customer_lookup[\"IncomeLevel\"] = customer_lookup[\"AnnualIncome\"].apply(lambda x: income_level(x))"
   ]
  },
  {
   "cell_type": "markdown",
   "metadata": {},
   "source": [
    "#### Calculated Column Validation"
   ]
  },
  {
   "cell_type": "code",
   "execution_count": 32,
   "metadata": {},
   "outputs": [
    {
     "data": {
      "text/plain": [
       "IncomeLevel\n",
       "Average      8201\n",
       "Low          7804\n",
       "High         1843\n",
       "Very High     300\n",
       "Name: count, dtype: int64"
      ]
     },
     "execution_count": 32,
     "metadata": {},
     "output_type": "execute_result"
    }
   ],
   "source": [
    "customer_lookup.value_counts(\"IncomeLevel\")"
   ]
  },
  {
   "cell_type": "markdown",
   "metadata": {},
   "source": [
    "### Validation"
   ]
  },
  {
   "cell_type": "markdown",
   "metadata": {},
   "source": [
    "#### Customer_lookup"
   ]
  },
  {
   "cell_type": "markdown",
   "metadata": {},
   "source": [
    "- Rows_Count"
   ]
  },
  {
   "cell_type": "code",
   "execution_count": 34,
   "metadata": {},
   "outputs": [
    {
     "data": {
      "text/plain": [
       "18148"
      ]
     },
     "execution_count": 34,
     "metadata": {},
     "output_type": "execute_result"
    }
   ],
   "source": [
    "len(customer_lookup)"
   ]
  },
  {
   "cell_type": "markdown",
   "metadata": {},
   "source": [
    "- Average AnnualIncome"
   ]
  },
  {
   "cell_type": "code",
   "execution_count": 23,
   "metadata": {},
   "outputs": [
    {
     "data": {
      "text/plain": [
       "57269.120564249504"
      ]
     },
     "execution_count": 23,
     "metadata": {},
     "output_type": "execute_result"
    }
   ],
   "source": [
    "customer_lookup[\"AnnualIncome\"].mean()"
   ]
  },
  {
   "cell_type": "markdown",
   "metadata": {},
   "source": [
    "#### Product_Category_Lookup"
   ]
  },
  {
   "cell_type": "markdown",
   "metadata": {},
   "source": [
    "- Rows_Count"
   ]
  },
  {
   "cell_type": "code",
   "execution_count": 36,
   "metadata": {},
   "outputs": [
    {
     "data": {
      "text/plain": [
       "4"
      ]
     },
     "execution_count": 36,
     "metadata": {},
     "output_type": "execute_result"
    }
   ],
   "source": [
    "product_category_lookup[\"ProductCategoryKey\"].count()"
   ]
  },
  {
   "cell_type": "markdown",
   "metadata": {},
   "source": [
    "#### Product_Subcategory_Lookup"
   ]
  },
  {
   "cell_type": "markdown",
   "metadata": {},
   "source": [
    "- Rows_Count"
   ]
  },
  {
   "cell_type": "code",
   "execution_count": 25,
   "metadata": {},
   "outputs": [
    {
     "data": {
      "text/plain": [
       "37"
      ]
     },
     "execution_count": 25,
     "metadata": {},
     "output_type": "execute_result"
    }
   ],
   "source": [
    "product_subcategory_lookup[\"ProductSubcategoryKey\"].count()"
   ]
  }
 ],
 "metadata": {
  "kernelspec": {
   "display_name": "Python 3",
   "language": "python",
   "name": "python3"
  },
  "language_info": {
   "codemirror_mode": {
    "name": "ipython",
    "version": 3
   },
   "file_extension": ".py",
   "mimetype": "text/x-python",
   "name": "python",
   "nbconvert_exporter": "python",
   "pygments_lexer": "ipython3",
   "version": "3.12.3"
  }
 },
 "nbformat": 4,
 "nbformat_minor": 2
}
