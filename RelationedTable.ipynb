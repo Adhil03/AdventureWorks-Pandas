{
 "cells": [
  {
   "cell_type": "code",
   "execution_count": 1,
   "metadata": {},
   "outputs": [],
   "source": [
    "import ipynb.fs.full.Table1 as Table1 # type: ignore\n",
    "import ipynb.fs.full.Table2 as Table2 # type: ignore\n",
    "import ipynb.fs.full.Table3 as Table3 # type: ignore\n",
    "import pandas as pd # type: ignore"
   ]
  },
  {
   "cell_type": "code",
   "execution_count": 10,
   "metadata": {},
   "outputs": [],
   "source": [
    "\n",
    "Product_Subcategories_Lookup = Table1.product_subcategory_lookup\n",
    "Product_Category_Lookup = Table1.product_category_lookup\n",
    "Customer_Lookup = Table1.customer_lookup\n",
    "product_lookup = Table2.Product_Lookup\n",
    "Territory_Lookup = Table2.Territory_Lookup\n",
    "Returns_Data = Table2.Return_Data\n",
    "Calendar_Lookup = Table3.Calendar\n",
    "Sales = Table3.Sales_Data"
   ]
  },
  {
   "cell_type": "code",
   "execution_count": 3,
   "metadata": {},
   "outputs": [],
   "source": [
    "Product_Lookup_with_Category_Subcategory = pd.merge(product_lookup,Product_Subcategories_Lookup, on=\"ProductSubcategoryKey\", how= \"inner\").merge(Product_Category_Lookup, on=\"ProductCategoryKey\", how= \"inner\")"
   ]
  },
  {
   "cell_type": "code",
   "execution_count": 4,
   "metadata": {},
   "outputs": [],
   "source": [
    "Return_Data_with_Details = pd.merge(Returns_Data,Product_Lookup_with_Category_Subcategory, on=\"ProductKey\", how=\"inner\").merge(Calendar_Lookup, left_on=\"ReturnDate\", right_on=\"Date\", how = \"inner\").merge(Territory_Lookup, left_on=\"TerritoryKey\", right_on=\"SalesTerritoryKey\", how=\"inner\")"
   ]
  },
  {
   "cell_type": "code",
   "execution_count": 5,
   "metadata": {},
   "outputs": [],
   "source": [
    "Sales_Data_with_Details = pd.merge(Sales,Product_Lookup_with_Category_Subcategory, on=\"ProductKey\", how= \"inner\").merge(Customer_Lookup, on=\"CustomerKey\", how = \"inner\").merge(Calendar_Lookup, left_on=\"OrderDate\", right_on=\"Date\", how=\"inner\").merge(Territory_Lookup, left_on=\"TerritoryKey\", right_on=\"SalesTerritoryKey\", how= \"inner\")"
   ]
  }
 ],
 "metadata": {
  "kernelspec": {
   "display_name": "Python 3",
   "language": "python",
   "name": "python3"
  },
  "language_info": {
   "codemirror_mode": {
    "name": "ipython",
    "version": 3
   },
   "file_extension": ".py",
   "mimetype": "text/x-python",
   "name": "python",
   "nbconvert_exporter": "python",
   "pygments_lexer": "ipython3",
   "version": "3.12.3"
  }
 },
 "nbformat": 4,
 "nbformat_minor": 2
}
